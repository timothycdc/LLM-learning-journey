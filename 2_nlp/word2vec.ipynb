{
 "cells": [
  {
   "cell_type": "markdown",
   "metadata": {},
   "source": [
    "# word2vec from scratch"
   ]
  },
  {
   "cell_type": "code",
   "execution_count": 33,
   "metadata": {},
   "outputs": [
    {
     "name": "stdout",
     "output_type": "stream",
     "text": [
      "The Project Gutenberg eBook of The Complete Project Gutenberg Works of Jane Austen      This ebook is for the use of anyone anywhere in the United States and most other parts of the world at no cost a\n"
     ]
    }
   ],
   "source": [
    "# open text_dataset.txt\n",
    "# use nltk to preprocess, tokenise, stem, remove stopwords, lemmatise\n",
    "\n",
    "import nltk\n",
    "from nltk.corpus import stopwords\n",
    "from nltk.tokenize import word_tokenize\n",
    "from nltk.stem import WordNetLemmatizer\n",
    "\n",
    "# download nltk data\n",
    "# nltk.download('punkt')\n",
    "# nltk.download('stopwords')\n",
    "# nltk.download('wordnet')\n",
    "\n",
    "# read the file\n",
    "with open('text_dataset.txt', 'r') as file:\n",
    "    data = file.read().replace('\\n', ' ')\n",
    "    \n",
    "# print first 200 chars\n",
    "print(data[:200])"
   ]
  },
  {
   "cell_type": "code",
   "execution_count": 34,
   "metadata": {},
   "outputs": [
    {
     "name": "stdout",
     "output_type": "stream",
     "text": [
      "Tokenised:  ['The', 'Project', 'Gutenberg', 'eBook', 'of', 'The', 'Complete', 'Project', 'Gutenberg', 'Works', 'of', 'Jane', 'Austen', 'This', 'ebook', 'is', 'for', 'the', 'use', 'of']\n",
      "Filtered:  ['Project', 'Gutenberg', 'eBook', 'Complete', 'Project', 'Gutenberg', 'Works', 'Jane', 'Austen', 'ebook', 'use', 'anyone', 'anywhere', 'United', 'States', 'parts', 'world', 'cost', 'almost', 'restrictions']\n",
      "Lemmatized:  ['Project', 'Gutenberg', 'eBook', 'Complete', 'Project', 'Gutenberg', 'Works', 'Jane', 'Austen', 'ebook', 'use', 'anyone', 'anywhere', 'United', 'States', 'part', 'world', 'cost', 'almost', 'restriction']\n",
      "Lowercase:  ['project', 'gutenberg', 'ebook', 'complete', 'project', 'gutenberg', 'works', 'jane', 'austen', 'ebook', 'use', 'anyone', 'anywhere', 'united', 'states', 'part', 'world', 'cost', 'almost', 'restriction']\n"
     ]
    }
   ],
   "source": [
    "# tokenise\n",
    "tokens = word_tokenize(data)\n",
    "print('Tokenised: ', tokens[:20])\n",
    "\n",
    "# remove stopwords\n",
    "stop_words = set(stopwords.words('english'))\n",
    "filtered_tokens = [word for word in tokens if word.lower() not in stop_words]\n",
    "print('Filtered: ', filtered_tokens[:20])\n",
    "\n",
    "\n",
    "# lemmatise\n",
    "lemmatizer = WordNetLemmatizer()\n",
    "lemmatized_tokens = [lemmatizer.lemmatize(word) for word in filtered_tokens]\n",
    "print('Lemmatized: ', lemmatized_tokens[:20])\n",
    "\n",
    "# lowercase\n",
    "lowercase_tokens = [word.lower() for word in lemmatized_tokens]\n",
    "print('Lowercase: ', lowercase_tokens[:20])\n",
    "\n",
    "data_tokens = lowercase_tokens[:200]\n"
   ]
  },
  {
   "cell_type": "code",
   "execution_count": 35,
   "metadata": {},
   "outputs": [
    {
     "name": "stdout",
     "output_type": "stream",
     "text": [
      "Word to ID:  [('hall', 0), ('license', 1), (':', 2), ('hour', 3), ('goodson', 4), ('abbey', 5), ('2010', 6), ('.', 7), ('away', 8), ('15', 9), ('contents', 10), (';', 11), ('works', 12), ('law', 13), ('editor', 14), ('occupation', 15), ('volume', 16), ('somersetshire', 17), ('jane', 18), ('give', 19)]\n",
      "ID to Word:  [(0, 'hall'), (1, 'license'), (2, ':'), (3, 'hour'), (4, 'goodson'), (5, 'abbey'), (6, '2010'), (7, '.'), (8, 'away'), (9, '15'), (10, 'contents'), (11, ';'), (12, 'works'), (13, 'law'), (14, 'editor'), (15, 'occupation'), (16, 'volume'), (17, 'somersetshire'), (18, 'jane'), (19, 'give')]\n"
     ]
    }
   ],
   "source": [
    "# create lookup table between tokens and indices\n",
    "word_to_id = {}\n",
    "id_to_word = {}\n",
    "\n",
    "for i, word in enumerate(set(data_tokens)):\n",
    "    if word not in word_to_id:\n",
    "        word_to_id[word] = i\n",
    "        id_to_word[i] = word\n",
    "\n",
    "# print first 20 key-value pairs of both dictionaries\n",
    "print('Word to ID: ', list(word_to_id.items())[:20])\n",
    "print('ID to Word: ', list(id_to_word.items())[:20])\n"
   ]
  },
  {
   "cell_type": "code",
   "execution_count": 36,
   "metadata": {},
   "outputs": [],
   "source": [
    "import numpy as np\n",
    "\n",
    "np.random.seed(42)\n",
    "\n",
    "def one_hot_encode(id, vocab_size):\n",
    "    return np.eye(vocab_size)[id]\n",
    "\n",
    "def generate_training_data(corpus, word_to_id, window_size):\n",
    "    vocab_size = len(word_to_id)\n",
    "    X = np.zeros((0, vocab_size), dtype=int)\n",
    "    y = np.zeros((0, vocab_size), dtype=int)\n",
    "    n = len(corpus)\n",
    "    for i in range(n):\n",
    "        context_indices = [j for j in range(max(0, i - window_size), min(n, i + window_size + 1)) if j != i]\n",
    "        X = np.vstack((X, np.repeat(one_hot_encode(word_to_id[corpus[i]], vocab_size)[np.newaxis, :], len(context_indices), axis=0)))\n",
    "        y = np.vstack((y, np.array([one_hot_encode(word_to_id[corpus[j]], vocab_size) for j in context_indices])))\n",
    "    return X, y"
   ]
  },
  {
   "cell_type": "code",
   "execution_count": 37,
   "metadata": {},
   "outputs": [],
   "source": [
    "X, y = generate_training_data(data_tokens, word_to_id, 2)"
   ]
  },
  {
   "cell_type": "code",
   "execution_count": 38,
   "metadata": {},
   "outputs": [
    {
     "data": {
      "text/plain": [
       "((794, 122), (794, 122))"
      ]
     },
     "execution_count": 38,
     "metadata": {},
     "output_type": "execute_result"
    }
   ],
   "source": [
    "X.shape, y.shape"
   ]
  },
  {
   "cell_type": "code",
   "execution_count": 39,
   "metadata": {},
   "outputs": [],
   "source": [
    "def softmax(X):\n",
    "    X_exp = np.exp(X - np.max(X, axis=1, keepdims=True))\n",
    "    return X_exp / np.sum(X_exp, axis=1, keepdims=True)\n",
    "\n",
    "\n",
    "def cross_entropy(z, y):\n",
    "    m = y.shape[0]\n",
    "    return -np.sum(y * np.log(z + 1e-9)) / m\n",
    "\n",
    "\n",
    "def init_network(vocab_size, n_embedding):\n",
    "    scale = np.sqrt(2. / (vocab_size + n_embedding))\n",
    "    model = {\n",
    "        'W1': np.random.randn(vocab_size, n_embedding) * scale,\n",
    "        'W2': np.random.randn(n_embedding, vocab_size) * scale\n",
    "    }\n",
    "    return model\n",
    "\n",
    "\n",
    "def forward(model, X, return_cache=True):\n",
    "    cache = {}\n",
    "    cache[\"a1\"] = X @ model[\"W1\"]\n",
    "    cache[\"a2\"] = cache[\"a1\"] @ model[\"W2\"]\n",
    "    cache[\"z\"] = softmax(cache[\"a2\"])\n",
    "    \n",
    "    if not return_cache:\n",
    "        return cache[\"z\"]\n",
    "    return cache\n",
    "    \n",
    "\n",
    "def backward(model, X,y,alpha):\n",
    "    cache = forward(model, X)\n",
    "    da2 = cache[\"z\"] - y\n",
    "    dW2 = cache[\"a1\"].T @ da2\n",
    "    da1 = da2 @ model[\"W2\"].T\n",
    "    dW1 = X.T @ da1\n",
    "    \n",
    "    assert(dW2.shape == model[\"W2\"].shape)\n",
    "    assert(dW1.shape == model[\"W1\"].shape)\n",
    "    \n",
    "    model[\"W1\"] -= alpha * dW1\n",
    "    model[\"W2\"] -= alpha * dW2\n",
    "    \n",
    "    return cross_entropy(cache[\"z\"], y)"
   ]
  },
  {
   "cell_type": "code",
   "execution_count": 41,
   "metadata": {},
   "outputs": [
    {
     "name": "stdout",
     "output_type": "stream",
     "text": [
      "Iteration 0, Loss: 4.806594419244795\n"
     ]
    },
    {
     "name": "stdout",
     "output_type": "stream",
     "text": [
      "Iteration 40, Loss: 2.8687797009036977\n",
      "Iteration 80, Loss: 2.235579424503325\n",
      "Iteration 120, Loss: 2.1096158723221516\n",
      "Iteration 160, Loss: 2.0684447329120137\n"
     ]
    },
    {
     "data": {
      "image/png": "[encoded data removed]",
      "text/plain": [
       "<Figure size 640x480 with 1 Axes>"
      ]
     },
     "metadata": {},
     "output_type": "display_data"
    }
   ],
   "source": [
    "import matplotlib.pyplot as plt\n",
    "import numpy as np\n",
    "\n",
    "\n",
    "def train_word2vec(data_tokens, word_to_id, window_size, vocab_size, n_embedding, n_iter, learning_rate):\n",
    "    # Generate training data\n",
    "    X, y = generate_training_data(data_tokens, word_to_id, window_size)\n",
    "    \n",
    "    # Initialize the network\n",
    "    model = init_network(vocab_size, n_embedding)\n",
    "    \n",
    "    # Training loop\n",
    "    history = []\n",
    "    for i in range(n_iter):\n",
    "        loss = backward(model, X, y, learning_rate)\n",
    "        history.append(loss)\n",
    "        if i % 40 == 0:  # Optionally print the loss every 10 iterations\n",
    "            print(f\"Iteration {i}, Loss: {loss}\")\n",
    "    \n",
    "    # Plotting the loss history\n",
    "    plt.plot( history )\n",
    "    plt.xlabel(\"Iteration\")\n",
    "    plt.ylabel(\"Loss\")\n",
    "    plt.title(\"Training Loss Over Time\")\n",
    "    plt.show()\n",
    "    \n",
    "    return model\n",
    "np.random.seed(42)\n",
    "\n",
    "model = train_word2vec(data_tokens, word_to_id, window_size=2, vocab_size=len(word_to_id), n_embedding=10, n_iter=200, learning_rate=0.02)\n"
   ]
  },
  {
   "cell_type": "code",
   "execution_count": 43,
   "metadata": {},
   "outputs": [
    {
     "name": "stdout",
     "output_type": "stream",
     "text": [
      "cost\n",
      "almost\n",
      "whatsoever\n",
      ".\n",
      "restriction\n",
      "states\n",
      "world\n",
      "set\n",
      "part\n",
      "copy\n",
      "persuasion\n",
      "included\n",
      "pride\n",
      "dedication\n",
      "may\n",
      "works\n",
      "www.gutenberg.org\n",
      "freindship\n",
      "susan\n",
      "31100\n",
      "[\n",
      "away\n",
      "amusement\n",
      "sensibility\n",
      "love\n",
      "lady\n",
      "took\n",
      "anyone\n",
      "re-use\n",
      "anywhere\n",
      "sir\n",
      "dedicated\n",
      "give\n",
      "united\n",
      "kellynch\n",
      "use\n",
      "hart\n",
      "somersetshire\n",
      "updated\n",
      "early\n",
      "link\n",
      "mansfield\n",
      "prejudice\n",
      "walter\n",
      "ebook\n",
      "never\n",
      "#\n",
      "25\n",
      ",\n",
      "contents\n",
      "book\n",
      "project\n",
      "collection\n",
      "sense\n",
      "edited\n",
      "country\n",
      "author\n",
      "park\n",
      ";\n",
      "located\n",
      "term\n",
      "woodby\n",
      "(\n",
      "volume\n",
      ")\n",
      "editor\n",
      "recently\n",
      "editions\n",
      "language\n",
      "law\n",
      "credits\n",
      "one\n",
      "many\n",
      "1\n",
      "using\n",
      "emma\n",
      "1818\n",
      "volunteer\n",
      "start\n",
      "15\n",
      "chapter\n",
      "baronetage\n",
      "active\n",
      "june\n",
      "*\n",
      "date\n",
      "check\n",
      "release\n",
      "gutenberg\n",
      "alice\n",
      "online\n",
      "accompanying\n",
      "goodson\n",
      "license\n",
      "title\n",
      ":\n",
      "elliot\n",
      "man\n",
      "widger\n",
      "abbey\n",
      "faculty\n",
      "consolation\n",
      "distressed\n",
      "2010\n",
      "january\n",
      "complete\n",
      "austen\n",
      "northanger\n",
      "found\n",
      "file\n",
      "2013\n",
      "jane\n",
      "hour\n",
      "]\n",
      "hall\n",
      "idle\n",
      "html\n",
      "note\n",
      "occupation\n",
      "english\n",
      "produced\n",
      "david\n"
     ]
    }
   ],
   "source": [
    "restriction = one_hot_encode(word_to_id[\"restriction\"], len(word_to_id))\n",
    "result = forward(model, [restriction], return_cache=False)[0]\n",
    "\n",
    "for word in (id_to_word[id] for id in np.argsort(result)[::-1]):\n",
    "    print(word)"
   ]
  },
  {
   "cell_type": "code",
   "execution_count": 44,
   "metadata": {},
   "outputs": [
    {
     "data": {
      "text/plain": [
       "array([[-0.38430035, -1.28848678, -0.18172351, ..., -0.48321309,\n",
       "        -1.21167911,  0.98049706],\n",
       "       [-0.23312858,  0.9750206 , -1.4663113 , ...,  0.50162972,\n",
       "        -1.31029815,  0.73865344],\n",
       "       [ 1.11569416, -1.41275004, -1.72105565, ...,  1.65836678,\n",
       "         0.9033421 ,  0.52758124],\n",
       "       ...,\n",
       "       [-0.16255025,  0.00909547,  1.69827951, ..., -0.39393002,\n",
       "        -1.66838676, -0.89931186],\n",
       "       [ 1.16314858,  0.08042672, -0.57413887, ...,  0.86055485,\n",
       "        -0.53055888,  1.58864032],\n",
       "       [ 0.68579178, -0.73033647, -0.70286267, ..., -1.93673286,\n",
       "        -1.95112824,  1.54609723]])"
      ]
     },
     "execution_count": 44,
     "metadata": {},
     "output_type": "execute_result"
    }
   ],
   "source": [
    "model['W1']"
   ]
  },
  {
   "cell_type": "code",
   "execution_count": 46,
   "metadata": {},
   "outputs": [
    {
     "data": {
      "text/plain": [
       "array([-0.39069997, -0.07535885,  0.69088661, -0.79807773,  0.24209137,\n",
       "       -0.43676966,  0.29752006,  0.43302243, -3.04357205, -1.72799362])"
      ]
     },
     "execution_count": 46,
     "metadata": {},
     "output_type": "execute_result"
    }
   ],
   "source": [
    "# Look up the embedding weights for the word \"restriction\"\n",
    "restriction_embedding = model['W1'][word_to_id['restriction']]\n",
    "restriction_embedding"
   ]
  },
  {
   "cell_type": "markdown",
   "metadata": {},
   "source": [
    "# word2vec with PyTorch\n",
    "\n",
    "#### Key Differences from the Original (NumPy) Approach:\n",
    "- The PyTorch version uses an Embedding layer instead of manual one-hot encoding, whic allows for more optimised handling of sparse data.\n",
    "- PyTorch's nn.CrossEntropyLoss combines the softmax operation and cross-entropy loss into one optimized function, unlike the separate softmax and cross-entropy calculation in the NumPy version.\n",
    "- Instead of manipulating one-hot encoded vectors, we handle indices directly, reducing memory usage and computational overhead.\n",
    "- Batching is implemented "
   ]
  },
  {
   "cell_type": "code",
   "execution_count": 133,
   "metadata": {},
   "outputs": [
    {
     "name": "stdout",
     "output_type": "stream",
     "text": [
      "Tokenised:  ['The', 'Project', 'Gutenberg', 'eBook', 'of', 'The', 'Complete', 'Project', 'Gutenberg', 'Works', 'of', 'Jane', 'Austen', 'This', 'ebook', 'is', 'for', 'the', 'use', 'of']\n",
      "Filtered:  ['Project', 'Gutenberg', 'eBook', 'Complete', 'Project', 'Gutenberg', 'Works', 'Jane', 'Austen', 'ebook', 'use', 'anyone', 'anywhere', 'United', 'States', 'parts', 'world', 'cost', 'almost', 'restrictions']\n",
      "Lemmatized:  ['Project', 'Gutenberg', 'eBook', 'Complete', 'Project', 'Gutenberg', 'Works', 'Jane', 'Austen', 'ebook', 'use', 'anyone', 'anywhere', 'United', 'States', 'part', 'world', 'cost', 'almost', 'restriction']\n",
      "Lowercase:  ['project', 'gutenberg', 'ebook', 'complete', 'project', 'gutenberg', 'works', 'jane', 'austen', 'ebook', 'use', 'anyone', 'anywhere', 'united', 'states', 'part', 'world', 'cost', 'almost', 'restriction']\n"
     ]
    }
   ],
   "source": [
    "import nltk\n",
    "from nltk.corpus import stopwords\n",
    "from nltk.tokenize import word_tokenize\n",
    "from nltk.stem import WordNetLemmatizer\n",
    "import torch\n",
    "\n",
    "# read the file\n",
    "with open('text_dataset.txt', 'r') as file:\n",
    "    data = file.read().replace('\\n', ' ')\n",
    "    \n",
    "# tokenise\n",
    "tokens = word_tokenize(data)\n",
    "print('Tokenised: ', tokens[:20])\n",
    "\n",
    "# remove stopwords\n",
    "stop_words = set(stopwords.words('english'))\n",
    "filtered_tokens = [word for word in tokens if word.lower() not in stop_words]\n",
    "print('Filtered: ', filtered_tokens[:20])\n",
    "\n",
    "# read the file\n",
    "with open('text_dataset.txt', 'r') as file:\n",
    "    data = file.read().replace('\\n', ' ')\n",
    "\n",
    "\n",
    "# lemmatise\n",
    "lemmatizer = WordNetLemmatizer()\n",
    "lemmatized_tokens = [lemmatizer.lemmatize(word) for word in filtered_tokens]\n",
    "print('Lemmatized: ', lemmatized_tokens[:20])\n",
    "\n",
    "# lowercase\n",
    "lowercase_tokens = [word.lower() for word in lemmatized_tokens]\n",
    "print('Lowercase: ', lowercase_tokens[:20])\n",
    "\n",
    "# get rid of punctuation\n",
    "import string\n",
    "lowercase_tokens = [word for word in lowercase_tokens if word not in string.punctuation]\n",
    "\n",
    "data_tokens = lowercase_tokens[:6000]\n",
    "\n",
    "# Create lookup tables\n",
    "word_to_id = {word: i for i, word in enumerate(set(data_tokens))}\n",
    "id_to_word = {i: word for word, i in word_to_id.items()}\n",
    "vocab_size = len(word_to_id)\n",
    "\n"
   ]
  },
  {
   "cell_type": "code",
   "execution_count": 134,
   "metadata": {},
   "outputs": [
    {
     "name": "stderr",
     "output_type": "stream",
     "text": [
      "                                                                               \r"
     ]
    },
    {
     "data": {
      "image/png": "[encoded data removed]",
      "text/plain": [
       "<Figure size 1000x600 with 1 Axes>"
      ]
     },
     "metadata": {},
     "output_type": "display_data"
    }
   ],
   "source": [
    "import torch\n",
    "import torch.nn as nn\n",
    "import torch.nn.functional as F\n",
    "import torch.optim as optim\n",
    "import matplotlib.pyplot as plt\n",
    "from tqdm import tqdm\n",
    "\n",
    "\n",
    "class Word2Vec(nn.Module):\n",
    "    def __init__(self, vocab_size, embedding_dim):\n",
    "        super(Word2Vec, self).__init__()\n",
    "        self.embeddings = nn.Embedding(vocab_size, embedding_dim)\n",
    "        # Adding more layers\n",
    "        self.hidden1 = nn.Linear(embedding_dim, embedding_dim * 2)\n",
    "        self.hidden2 = nn.Linear(embedding_dim * 2, embedding_dim)\n",
    "        self.linear = nn.Linear(embedding_dim, vocab_size)\n",
    "        # self.dropout = nn.Dropout(p=0.5)\n",
    "\n",
    "    def forward(self, input_words):\n",
    "        embeds = self.embeddings(input_words)\n",
    "        # Applying non-linear activation functions\n",
    "        hidden1 = F.relu(self.hidden1(embeds))\n",
    "        hidden2 = F.relu(self.hidden2(hidden1))\n",
    "        # hidden3 = self.dropout(hidden2)\n",
    "        out = self.linear(hidden2)\n",
    "        return out\n",
    "\n",
    "\n",
    "\n",
    "# Set up the model, loss function, and optimizer\n",
    "embedding_dim = 100\n",
    "model = Word2Vec(vocab_size, embedding_dim)\n",
    "\n",
    "# Generate training data with batching\n",
    "def generate_batched_data(corpus, word_to_id, window_size, batch_size):\n",
    "    n = len(corpus)\n",
    "    num_batches = (n - window_size * 2) // batch_size\n",
    "\n",
    "    for batch_idx in range(num_batches):\n",
    "        batch_start = batch_idx * batch_size\n",
    "        batch_end = batch_start + batch_size\n",
    "        input_ids = []\n",
    "        context_ids = []\n",
    "\n",
    "        for i in range(batch_start, batch_end):\n",
    "            context_indices = [j for j in range(max(0, i - window_size), min(n, i + window_size + 1)) if j != i]\n",
    "            for context_index in context_indices:\n",
    "                input_ids.append(word_to_id[corpus[i]])\n",
    "                context_ids.append(word_to_id[corpus[context_index]])\n",
    "\n",
    "        input_ids = torch.tensor(input_ids, dtype=torch.long)\n",
    "        context_ids = torch.tensor(context_ids, dtype=torch.long)\n",
    "        yield input_ids, context_ids\n",
    "        \n",
    "\n",
    "# Training loop\n",
    "def train(model, data, word_to_id, window_size, batch_size, epochs, learning_rate):\n",
    "    optimizer = optim.Adam(model.parameters(), lr=learning_rate)\n",
    "    loss_function = nn.CrossEntropyLoss()\n",
    "    losses = []\n",
    "\n",
    "    epoch_iterator = tqdm(range(epochs), desc=\"Training Progress\", unit=\"epoch\", leave=False)\n",
    "\n",
    "    for epoch in epoch_iterator:\n",
    "        total_loss = 0\n",
    "        batch_generator = generate_batched_data(data, word_to_id, window_size, batch_size)\n",
    "\n",
    "        for input_ids, context_ids in batch_generator:\n",
    "            optimizer.zero_grad()\n",
    "            log_probs = model(input_ids)\n",
    "            loss = loss_function(log_probs, context_ids)\n",
    "            loss.backward()\n",
    "            optimizer.step()\n",
    "            total_loss += loss.item()\n",
    "\n",
    "        losses.append(total_loss)\n",
    "        \n",
    "        epoch_iterator.set_description(f\"Epoch {epoch+1}/{epochs} Loss: {total_loss:.2f}\")\n",
    "        epoch_iterator.refresh()  \n",
    "    # Plot the loss over iterations\n",
    "    plt.figure(figsize=(10, 6))\n",
    "    plt.plot(range(len(losses)), losses)\n",
    "    plt.xlabel(\"Epoch\")\n",
    "    plt.ylabel(\"Loss\")\n",
    "    plt.title(\"Training Loss Over Epochs\")\n",
    "    plt.show()\n",
    "\n",
    "    \n",
    "train(model, data_tokens, word_to_id, window_size=2, batch_size=512, epochs=100, learning_rate=0.03)"
   ]
  },
  {
   "cell_type": "code",
   "execution_count": 136,
   "metadata": {},
   "outputs": [
    {
     "name": "stdout",
     "output_type": "stream",
     "text": [
      "Embedding Weights:\n",
      "[[-1.3904237   1.6316655   0.73310405 ...  0.06375287  2.2719674\n",
      "   1.2719074 ]\n",
      " [ 0.75213146 -0.24354059  1.6080025  ...  0.78518826 -1.9389652\n",
      "   0.7559304 ]\n",
      " [-1.2488998   0.03486396 -2.1961508  ... -0.84246933 -1.8256373\n",
      "   0.9463502 ]\n",
      " ...\n",
      " [ 0.6406975   2.8371642   1.3604952  ... -0.8281421   2.2002277\n",
      "  -0.6719403 ]\n",
      " [ 0.07327046 -0.32596436 -0.84240097 ... -0.6558764  -1.9485059\n",
      "   0.6949848 ]\n",
      " [-2.813357    0.8674626  -2.0289352  ... -2.395054    0.46834147\n",
      "   0.04676668]]\n"
     ]
    }
   ],
   "source": [
    "# After training your model\n",
    "embedding_weights = model.embeddings.weight.data.cpu().numpy()\n",
    "linear_weights = model.linear.weight.data.cpu().numpy()\n",
    "\n",
    "print(\"Embedding Weights:\")\n",
    "print(embedding_weights)\n"
   ]
  },
  {
   "cell_type": "code",
   "execution_count": 154,
   "metadata": {},
   "outputs": [
    {
     "name": "stdout",
     "output_type": "stream",
     "text": [
      "Similar words to 'better': ['youngest', 'convince', 'atmosphere', 'beg', 'prescribed', 'soon', 'confess', 'wished', 'notion', 'solicitous']\n",
      "Embedding for 'better':\n",
      "tensor([-0.6071,  1.4115,  0.0865, -1.8073, -1.3477,  1.6845,  0.4384,  0.0867,\n",
      "        -0.8241,  0.0578,  1.1693,  0.2691,  0.0604, -0.0644, -0.7665, -0.5779,\n",
      "         0.6972, -2.1495,  1.1482,  1.2985, -0.8920, -0.1459,  0.6877, -0.5342,\n",
      "         0.2310, -0.6396,  0.2296, -0.8154,  0.8215,  0.6173,  0.4471,  1.1003,\n",
      "        -1.3093,  1.5898,  0.0179, -0.8791,  1.0853, -0.4197,  1.2414,  2.0271,\n",
      "        -0.8721,  2.2778,  0.8315,  1.3092, -0.1201,  1.4025, -0.1129, -0.1189,\n",
      "        -1.2652,  0.8893, -0.6173,  1.0903,  0.2691, -1.0583,  0.1855,  1.7060,\n",
      "        -1.1349, -1.2543,  1.8843, -2.6723,  0.0154, -0.3240,  0.3095,  1.2929,\n",
      "        -0.1151,  0.9918, -0.0311, -0.0069, -0.2640, -2.5628, -0.1137, -1.1143,\n",
      "         0.0283, -0.7032, -2.1650,  0.4606,  0.8144,  0.9153, -0.6523,  0.3222,\n",
      "        -1.2880,  1.3256,  1.2512,  0.0946, -0.6758,  1.1208,  1.5223, -0.7556,\n",
      "         0.1245, -1.1902, -0.7521, -0.1168, -0.9572, -0.7358, -1.5295,  0.8188,\n",
      "         1.2163,  0.2043,  0.3372, -0.1643])\n"
     ]
    }
   ],
   "source": [
    "def get_word_embedding(model, word, word_to_id):\n",
    "    # Ensure the word is in the vocabulary\n",
    "    if word not in word_to_id:\n",
    "        print(f\"'{word}' is not in the vocabulary.\")\n",
    "        return None\n",
    "    \n",
    "    # Fetch the index of the word\n",
    "    word_idx = torch.tensor([word_to_id[word]], dtype=torch.long)\n",
    "    \n",
    "    # Use the model's embedding layer to get the embedding for the index\n",
    "    with torch.no_grad():  # We don't need gradients for this operation\n",
    "        word_embedding = model.embeddings(word_idx).squeeze(0)  # Remove batch dimension\n",
    "    \n",
    "    return word_embedding\n",
    "\n",
    "def get_similar_words_pytorch(model, word, word_to_id, id_to_word, top_n=10):\n",
    "    # Check if the word is in the vocabulary\n",
    "    if word not in word_to_id:\n",
    "        print(f\"'{word}' is not in the vocabulary.\")\n",
    "        return []\n",
    "\n",
    "    # Retrieve the embedding for the specified word\n",
    "    word_idx = torch.tensor([word_to_id[word]], dtype=torch.long)\n",
    "    word_embedding = model.embeddings(word_idx).squeeze(0)\n",
    "\n",
    "    # Compute similarities between the target word and all words in the vocabulary\n",
    "    # Normalize the embeddings to unit vectors before computing cosine similarity\n",
    "    embeddings = model.embeddings.weight\n",
    "    normalized_embeddings = F.normalize(embeddings, p=2, dim=1)\n",
    "    normalized_word_embedding = F.normalize(word_embedding, p=2, dim=0)\n",
    "    similarities = torch.matmul(normalized_embeddings, normalized_word_embedding)\n",
    "\n",
    "    # Get the indices of the top n most similar words\n",
    "    _, top_indices = torch.topk(similarities, top_n + 1)  # +1 to exclude the word itself\n",
    "\n",
    "    # Convert indices to words, excluding the word itself\n",
    "    similar_words = [id_to_word[idx.item()] for idx in top_indices if idx.item() != word_to_id[word]]\n",
    "\n",
    "    return similar_words[:top_n]\n",
    "\n",
    "\n",
    "\n",
    "word = 'better'  \n",
    "word_embedding = get_word_embedding(model, word, word_to_id)\n",
    "similar_words = get_similar_words_pytorch(model, word, word_to_id, id_to_word, top_n=10)\n",
    "print(f\"Similar words to '{word}': {similar_words}\")\n",
    "print(f\"Embedding for '{word}':\\n{word_embedding}\")"
   ]
  },
  {
   "cell_type": "code",
   "execution_count": 115,
   "metadata": {},
   "outputs": [
    {
     "name": "stdout",
     "output_type": "stream",
     "text": [
      "['feature', 'nation', 'wife', 'distance', 'whole', 'tax', 'scarcely', 'borne', 'fool', 'somersetshire', 'ten', 'pointing', 'deemed', 'offer', 'averted', 'elude', 'contemplated', 'walter', 'book', 'society', 'admiration', 'saving', 'www.gutenberg.org', 'black', 'ball', 'observed', 'proper', 'fetch', 'indeed', 'worsting', 'danger', 'peace', 'power', 'difference', 'settling', 'circle', 'satisfaction', 'plainly', 'quicker', 'foresight', 'replied', 'set', 'giving', 'never', 'foresaw', 'world', 'doubt', 'sister', 'convinced', 'chose', 'pause', 'wise', 'therefore', 'fill', 'became', 'meant', 'provided', 'embarrassment', 'remain', 'passed', 'furnishing', 'fate', 'added', 'convenience', 'wishing', 'revolving', 'would', 'opposite', 'distinction', 'dear', 'next', 'speak', 'admit', 'contentment', 'clergyman', 'must', 'completely', 'informed', 'material', 'disappointed', 'located', 'friend', 'obscure', 'perpetuated', 'properly', 'year', 'saw', 'seventeen', 'drawing-rooms', 'foot', 'intending', 'betimes', 'consult', 'case', 'infected', 'unequal', 'situation', 'disagreeable', 'tone', 'experience', 'earliest', 'house', 'remained', 'rent', 'hour', 'elizabeth', 'condescended', 'become', 'able', 'summer', '1787', 'lose', 'inclined', 'torn', 'law', 'charles', 'cape', 'back', 'answered', 'sensation', 'bring', 'period', 'greatly', 'confirmed', 'volunteer', 'sigh', 'states', 'soon', 'reply', 'daughter', 'wealthy', 'room', 'misled', 'connection', 'navy', 'invited', 'civility', 'disdained', 'happily', 'monkford', 'difficult', 'esq', 'trafalgar', 'pleasing', 'ago', 'regard', 'attach', 'spend', 'disliked', 'precedence', 'commander', 'ground', 'least', 'owner', 'dignity', 'refrain', 'convenient', 'conversant', 'mild', 'different', 'adopted', 'neighbourhood', 'surprise', 'depend', 'adopt', 'consulted', 'knight', 'copy', \"'forty\", 'last', 'youngest', 'servant', 'reduce', 'proceed', 'side', 'allow', 'acting', 'suspend', 'unobjectionable', 'choose', 'deplorable-looking', 'improve', 'reduction', 'sometimes', 'grows', 'u', 'contemptuously', 'intention', 'instance', 'supported', 'dissuade', 'fully', 'faculty', 'strict', 'disgraceful', 'confessing', 'file', 'kept', 'regulation', 'leading', 'stood', 'imagine', 'affair', 'disappointment', 'license', 'expressed', 'complaisance', 'long', 'admiral', 'yet', 'appeal', 'lesser', 'unsolicitous', 'death', 'present', 'amicable', 'forget', 'croft', 'june', 'spoke', 'property', '3', 'established', 'manner', 'fourteen', 'value', 'fifty', 'hundred', 'table', 'business', 'asked', 'name', 'presumed', 'freindship', 'mahogany', 'sooner', 'sentiment', 'new', 'grove', 'undesirableness', 'winter', 'gun', 'respectable', 'heavy', 'seeing', 'perhaps', 'expose', 'success', 'moment', 'reference', 'confide', 'dab', 'persuading', 'hint', 'jealous', 'drawing-room', 'subject', 'look', 'among', 'confidence', 'editions', 'knew', 'duodecimo', 'heard', 'old', 'exertion', 'happens', 'service', 'secret', 'check', 'opened', 'regret', 'remnant', 'immediate', 'acre', 'effect', 'finale', 'slightingly', 'vain', 'susan', 'privilege', 'conceited', 'husband', 'required', '2013', 'caution', 'amiable', 'went', 'alarm', 'accidentally', 'notice', 'edited', 'circumstance', 'slightest', 'expedited', 'spent', 'apt', 'attempt', '#', 'skilful', 'presume', 'profession', '1818', 'fault', 'acceptable', 'principal', 'delicate', 'anne', 'century', 'garden', 'prosperity', 'plain', 'contraction', 'blooming', 'powerless', 'dreadfully', 'vacancy', 'looked', 'prompted', 'bloom', 'seven', 'safer', 'away', 'colour', 'sameness', 'singleness', 'single', 'editor', 'orchard', 'looking', 'oppose', 'judgement', 'affected', 'intimate', 'begged', 'course', '1789', 'agreeable', 'worth', 'attending', 'anticipated', 'woodby', \"'old\", 'placed', 'previous', 'talent', 'insulted', 'almost', 'understood', 'publicly', 'gentle', 'gone', 'nine', 'beg', 'expenditure', 'economy', 'list', 'since', 'esteem', 'others', 'ay', 'nine-and-twenty', 'altogether', 'suit', 'sensible', 'often', 'personal', 'branch', 'taken', 'possible', 'miserably', '16', 'work', 'laughed', 'may', 'grey', 'correspondent', 'language', 'instead', 'act', 'mercy', 'repeatedly', 'online', 'projected', 'james', 'bread', 'selfish', 'carry', 'london', 'far', 'seen', 'newspaper', 'john', 'soldiers', 'bespeak', '--', 'link', 'suspicious', 'propose', 'life', 'god-daughter', 'recently', 'stationed', 'offered', 'excite', 'afterwards', 'happening', 'amongst', 'explicit', 'income', 'zealous', 'honest', 'strengthened', 'marry', 'grow', 'trying', 'judge', 'unfortunate', 'begun', 'ribbon', '*', 'attachment', 'prided', 'towards', 'mode', 'eat', 'spirit', 'sensibility', 'money', 'small', 'eligible', 'approving', 'supposition', 'interval', 'elegance', 'add', 'sure', 'large', 'conceal', 'every', 'greater', 'imperiously', 'indisputably', 'line', 'body', 'right-mindedness', 'advised', 'well', 'ardour', 'ranked', 'constantly', 'creditor', 'mrs', 'using', 'decorum', 'eye', 'lived', 'wit', 'made', 'favourite', 'comparatively', 'habit', 'especially', 'january', \"'s\", 'dedication', 'person', 'help', 'second', 'kellynch', 'information', 'arrangement', 'promoted', 'exposed', 'lobby', 'condescend', 'knowledge', 'still-born', 'occur', 'nodded', 'known', 'sir', 'smallest', 'much', 'credits', 'resented', ')', 'vanished', 'utmost', 'uttered', 'charm', 'serious', 'travelling', 'early', 'david', 'dropped', 'instruction', 'extremely', 'dreadful', 'awkward', 'transmitted', 'thus', 'infatuation', 'village', 'hold', 'volume', 'however', \"'in\", 'school', '[', 'note', 'laid', 'let', 'russell', 'anxiety', 'along', 'apprehension', 'around', 'le', 'heaven', 'furniture', 'everything', 'delighted', 'yearly', 'retrenching', 'reserve', 'entire', 'living', 'foretold', 'dangerous', 'week', 'hey', \"''\", 'park', 'respect', 'civil', 'confess', 'laying', 'head', 'integrity', ']', 'whatsoever', 'indecision', 'ebook', 'unworthy', 'independent', 'dreamt', 'infinitely', '4', 'easy', 'cut', 'consider', 'disgust', 'mere', 'obliged', 'apple', 'idea', 'english', 'requires', 'roused', '20', 'high', 'sell', 'confidential', 'extent', 'convince', 'induced', 'commons', 'unprosperous', 'thin', 'use', 'opposition', 'relinquishing', 'settled', 'excellent', \"'\", 'article', 'owed', 'attempted', 'hereafter', 'hardly', 'insufficient', 'venture', 'twelvemonth', 'study', 'chaise', 'behaviour', 'walking', 'well-spoken', 'common', 'mine', 'amazement', 'superior', 'persuade', 'turning', 'estate', 'jane', 'give', 'necessary', 'baronet-blood', 'mind', 'drive', 'presumptive', 'wanting', 'climate', 'anywhere', 'ancestry', 'enjoyment', 'seeking', 'capable', 'grandson', 'whether', 'mother', 'partially', 'pardoned', 'thinking', 'sacrifice', 'spontaneously', 'fortune', 'compromise', 'yes', 'quick', 'art', 'soldier', 'acquainted', 'inferior', 'solicitude', 'scheme', 'softened', 'discredit', 'blossom', 'singular', 'coolly', 'advertise', 'near', 'several', 'degree', 'private', 'plod', 'pleasure-grounds', 'need', 'moderation', 'sheriff', 'shut', 'responsible', 'tradespeople', 'felt', 'keep', 'breaking', 'curate', 'pride', 'concealing', 'regulating', 'release', 'sarcastically', 'reading', 'like', 'mansfield', 'remembrance', 'shrubbery', 'shall', 'curiosity', 'preferred', 'rugged', 'alice', 'taste', 'fell', 'aristocratic', 'something', 'higher', 'forgetting', 'frost', 'revive', 'annual', 'easily', 'free', 'discontented', 'credit', 'gave', 'better', 'changed', 'really', 'spoken', 'alienable', 'involved', 'else', 'consequence', 'two', 'assure', 'turn', 'eldest', 'distress', 'submitted', 'forbad', 'gutenberg', 'wonder', 'prize', 'choosing', 'intimacy', 'improved', 'advice', 'alter', 'session', 'desirous', 'mistake', 'limited', 'guard', 'remaining', 'started', 'odd', 'farmer', 'female', 'emma', 'belonging', 'included', 'unnecessary', 'wait', 'removal', 'measure', 'woman', 'seldom', 'efficacy', 'naval', 'hard', 'upon', 'seat', 'distressed', 'tenant', ',', 'contracted', 'concern', 'lucky', 'becoming', 'empowered', 'afforded', 'satisfied', 'till', 'proceeding', 'outward', 'distant', 'disgrace', 'consideration', 'avoided', 'suppose', 'conscience', 'follow', 'offering', 'abode', 'entitled', 'injustice', 'lady', 'remark', 'afraid', 'contemplating', 'fond', 'renting', 'always', 'spending', 'author', 'equally', 'dealing', 'fit', 'seemed', 'natural', 'another', 'sake', 'widower', 'said', 'besides', 'affection', 'resolute', 'get', 'style', 'safe', 'severe', 'reached', 'usage', 'sea', 'particularly', 'reformation', 'fact', 'dozen', '2010', 'selection', 'bless', 'interrupted', 'certainly', 'occupation', 'appearance', 'honourable', 'acknowledged', 'happy', 'suffering', 'part', 'man', 'deserving', 'obliging', 'torment', 'equal', 'number', 'mean', 'vigour', 'unwelcome', 'love', 'proof', 'application', 'followed', 'patent', 'design', 'drew', 'soothing', 'inhabit', 'highly', 'sense', 'annexed', 'forced', 'warm', 'support', 'inquiry', 'charitable', 'rigid', 'extraordinary', 'wanted', 'printer', 'sixteen', 'called', 'persuaded', 'eloquent', 'returned', 'equality', 'taunton', 'particular', 'come', '1800', 'nay', 'wish', 'walked', 'either', 'rank', 'self-denial', 'charity', 'lawn', 'ceased', 'fine', 'paragraph', 'blessing', 'hale', 'amusement', 'former', 'met', 'clever', 'rear', 'right', 'bestow', 'maintenance', 'gratitude', 'weight', 'attended', 'pushing', 'wrinkle', 'persuasion', 'st', 'fair', 'beyond', 'oh', 'possessor', 'youth', 'importance', 'possibility', 'mary', 'overture', 'mortgage', 'abbey', 'tempted', 'profound', 'observance', 'important', 'clay', 'inclination', 'waiting', 'nothing', 'air', 'face', 'scruple', 'arm', 'silly', 'gentleman', 'sailor', 'prejudice', 'mile', 'held', 'strafford', 'consciousness', 'motto', 'blinded', 'whatever', 'beauty', 'caught', 'estimate', 'crofts', 'considered', '?', 'many', 'dedicated', 'proposed', 'alliance', 'widow', 'men', 'applicant', 'behind', 'blameless', 'equity', 'cultivated', 'given', 'indulged', 'finally', 'valuable', 'ii', 'advise', 'great', 'amidst', 'resident', 'zeal', 'interest', 'east', '-5', 'see', 'difficulty', 'told', 'hair', 'sweetness', 'trial', 'rise', 'neither', 'people', 'morning', 'baronetcy', 'northanger', 'best', 'allowing', 'little', 'rapid', 'objection', 'died', 'secure', 'comfort', 'cuff', 'wished', 'respectability', 'hope', 'go', 'html', 'matter', 'duty', 'lost', 'war', 'inserting', 'william', 'struck', 'birth', 'suitable', 'treaty', 'custom', 'sorry', 'engaged', 'hearty', 'start', 'talking', 'deserved', 'admire', 'afterwards.', 'could', 'cheshire', 'pacing', 're-use', 'compassion', 'livery', 'getting', 'manor', 'hospitality', 'turned', 'happiest', 'authority', 'hear', 'gloucester', 'pay', 'conduct', 'ever', 'day', 'works', 'weather', 'choice', 'engrafted', 'notion', 'faded', 'blood', 'believe', '1810', 'companion', 'first', 'opening', 'united', 'rich', 'accurately', 'trent', 'july', 'precisely', 'dugdale', 'comprehensive', 'got', 'careful', '(', 'utility', 'physician', 'lodge', 'decency', 'striking', 'lawyer', 'chapter', 'belonged', 'clear', 'recollect', 'continuing', 'genteel', 'plan', 'parliament', 'dwell', 'austen', 'pushed', 'staying', 'originally', 'contempt', 'closed', 'justice', 'honesty', 'white', 'allowance', 'whither', 'reach', 'short', 'half', 'gifted', 'purchased', 'poisonous', 'steady', 'journeys', 'prescribed', 'one', 'indulgence', 'connexion', 'loved', 'uneventful', 'powder', 'recommend', 'generally', 'warmest', 'neighbour', 'bath', 'live', 'health', 'dictate', '``', 'quit', 'collection', 'forming', 'highest', 'awful', 'brought', 'speaking', 'shepherd', 'representing', 'prevailing', 'first-rate', 'growing', 'connected', 'coarse', 'charge', 'larger', 'feel', 'seriously', 'disrespectfully', 'crow', 'requisition', 'visit', 'scanty', 'conducted', 'twenty-nine', 'merely', 'failed', 'beginning', 'disapprobation', 'domestic', 'excused', 'driven', 'four', 'bid', 'travelled', 'permitted', 'mentioned', 'earnest', 'ives', 'stevenson', 'twice', 'south', 'young', 'modest', 'endeavoured', 'encouraged', 'leaf', 'standard', 'possessed', 'worst', 'november', 'complete', 'order', 'surprised', 'mainly', 'trouble', 'likely', 'active', 'artificial', 'devotion', 'youthful', 'legacy', 'august', 'somerset', '2', 'conception', 'real', 'presiding', 'public', 'good-breeding', 'understanding', 'endless', 'impose', 'vigorous', 'rough', 'month', 'baronet', 'event', 'fixed', 'longer', 'sound', 'curacy', 'mistress', 'horse', 'might', 'already', 'handsome', 'scene', 'perceived', 'home', 'them.', 'retrenchment', 'well-looking', 'penelope', 'supplied', 'peculiarly', 'quite', 'secondly', 'rather', 'vanity', 'reason', 'pain', 'suggest', 'marking', 'approachable', '1814', 'predicament', 'listener', '1760', 'personableness', 'anxiously', 'true', 'valet', 'cost', 'seek', 'temple', 'correct', 'explanation', 'hand', 'hall', 'deal', 'rejoined', ':', 'granted', 'fancy', 'accomplishment', 'influence', 'disposed', 'observe', 'offspring', 'raising', '15', 'conference', 'haggard', 'degradation', 'leave', 'marys', 'cautious', 'widger', 'strong', 'description', 'accompanying', 'neat', 'comfortable', 'state', 'unquestionably', 'descend', 'making', 'self-possession', 'rising', 'alternative', 'relied', 'sea-faring', 'pleasure', 'expedition', 'company', 'rumour', 'indifference', 'town', 'ashore', 'country', 'reality', 'lot', 'flushed', 'brother', 'think', 'elizabeths', 'governor', 'usual', 'spurned', 'truth', 'sensibly', 'ought', 'pursued', 'guidance', 'mortification', 'grant', 'intervention', '1785', 'worse', 'read', 'project', 'acquaintance', 'kind', 'rated', 'returning', 'drawing-back', 'save', 'family-matters', 'preserver', 'retrench', 'entirely', 'agreed', 'time', 'materially', 'marked', 'bill', 'age', 'gift', 'ability', 'perfectly', 'replying', 'claim', 'serving', 'view', 'sweet', 'idle', 'still', 'burden', 'married', 'mr', 'undue', 'future', 'even', 'increase', 'beautifier', 'fortitude', 'remarkably', 'market', 'tattersall', 'updated', 'flower', 'lately', 'concluding', 'ill-used', 'consolation', 'poor', 'moreover', 'supposed', 'officer', 'regarded', 'paper', 'range', 'totally', 'neglected', 'hearing', 'rejoinder', \"'or\", 'expedient', 'succeeded', 'benevolent', '.', 'settle', 'action', 'example', 'tidings', 'girl', 'cease', 'cold', 'march', 'marriage', 'continued', 'compromising', 'letting', 'though', 'labour', 'sailors', 'eagerly', 'attentive', 'way', 'nobody', 'advantage', 'three', 'offensive', 'cheek', 'stronger', 'within', 'received', 'point', 'atmosphere', 'generously', 'sought', 'vary', 'wretched', 'glad', 'younger', 'place', '5', 'humoured', 'found', 'independence', 'decided', 'acquired', 'involving', 'dark', '1', 'indispensable', 'miss', 'december', 'agree', 'unreasonably', 'sixty-two', 'inquired', 'noble', 'everybody', 'willingly', 'certain', 'close', 'introduction', 'failing', 'model', 'quieter', 'born', 'personage', 'exact', 'dining-room', 'nothingness', 'dislike', 'feeling', 'knocked', 'uniting', 'title', 'quarter', 'enough', 'spite', 'essential', 'persevered', 'lessening', 'match', 'fifty-four', 'care', 'account', 'whose', 'dispose', 'issue', 'fellow', 'child', 'change', 'cried', 'cool', 'valued', 'juncture', 'native', 'find', 'horribly', 'care-worn', 'suited', 'word', 'done', 'authorising', 'solicited', 'loyalty', 'debt', 'indies', 'weather-beaten', 'open', 'ready-furnished', 'musgrove', \"'sixty\", 'goodson', 'make', 'rational', 'sight', 'trusted', 'shrewd', 'principle', 'unexceptionable', 'loss', 'kindness', 'anybody', 'thing', 'grandfather', '!', 'pair', '31100', 'consistent', 'happiness', 'solicitous', 'father', 'warmth', 'believed', 'top', 'lord', 'fix', 'trespass', 'directing', 'successive', 'page', 'stolen', 'put', 'picture', 'end', 'liberality', 'devise', 'introduced', 'neighbouring', 'object', 'ambition', 'anger', 'stopt', 'history', 'county', 'took', 'pretty', 'additional', 'excursion', 'know', 'expected', 'wall', 'adding', \"'it\", 'singularity', 'naturally', 'bringing', 'nobility', 'arising', 'favour', 'spring', 'agent', 'lessened', 'apology', 'term', 'good', 'method', 'standing', 'speaks', 'remove', 'honour', 'orange', 'uppercross', 'calculation', 'urging', 'accustomary', 'basil', 'ancient', 'residence', 'rejoiced', 'decision', 'painful', 'influenced', 'formed', 'alloy', 'toil', 'desirable', '1791', 'report', 'liberal', 'due', 'dared', 'noticed', '9', 'borough', 'contents', ';', 'approach', 'greatest', 'pity', 'abroad', 'prematurely', 'heir', 'handsomer', 'constant', 'character', '1784', 'suitably', 'injury', 'presented', 'appear', 'breathed', 'creation', 'going', 'friendship', 'immediately', 'morley', 'height', 'agitation', 'concealed', 'emendation', 'office', 'son', 'attention', 'family', 'anxious', 'baldwin', 'regular', 'taking', 'supposing', 'hastened', 'shortly', 'occasion', 'wentworth', 'take', 'advertised', 'baronetage', 'deeper', 'question', 'date', 'thought', 'intercourse', 'evil', 'without', 'landlord', 'together', 'expense', 'ill', 'killed', 'pursuit', 'deputation', 'outline', 'boy', 'anyone', '25', 'none', 'unreasonable', 'say', 'contrary', 'unconnected', 'wearing', 'hart', 'rest', 'household', 'left', 'passing', 'talked', 'came', 'occupy', 'extreme', 'produced', 'thirteen', 'z', 'bequeath', 'implicit', 'latter', 'anything', 'coming', 'esq.', 'restriction', 'handwriting', 'elliot', 'remember', 'meet', 'liked', 'following', 'apparently', 'exceeding', 'expect', 'shewn', 'wreck']\n"
     ]
    }
   ],
   "source": [
    "# print list of vocab\n",
    "print(list(word_to_id.keys()))"
   ]
  }
 ],
 "metadata": {
  "kernelspec": {
   "display_name": "ml",
   "language": "python",
   "name": "python3"
  },
  "language_info": {
   "codemirror_mode": {
    "name": "ipython",
    "version": 3
   },
   "file_extension": ".py",
   "mimetype": "text/x-python",
   "name": "python",
   "nbconvert_exporter": "python",
   "pygments_lexer": "ipython3",
   "version": "3.10.14"
  }
 },
 "nbformat": 4,
 "nbformat_minor": 2
}
